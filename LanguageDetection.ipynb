{
 "cells": [
  {
   "cell_type": "markdown",
   "metadata": {},
   "source": [
    "# Language Detection\n",
    "\n",
    "*Using Machine Learning to Classify 21 Languages Spokein in the EU*\n",
    "\n",
    "\n",
    "In this notebook, I will show how I achieved an accuracy score of 99.7% on a testset that contains text from 21 different languages spoken in the EU.  My model classifies the language of the text. \n",
    "\n",
    "My explanations will split into three parts: **feature engineering, model selection, and model performance**.  \n",
    "\n"
   ]
  },
  {
   "cell_type": "code",
   "execution_count": 1,
   "metadata": {},
   "outputs": [],
   "source": [
    "from sklearn.feature_extraction.text import TfidfVectorizer\n",
    "from sklearn.utils import shuffle\n",
    "from sklearn.pipeline import Pipeline\n",
    "from sklearn.model_selection import train_test_split\n",
    "from sklearn.naive_bayes import MultinomialNB\n",
    "from sklearn.metrics import accuracy_score, confusion_matrix, classification_report\n",
    "from sklearn.model_selection import cross_val_score\n",
    "from sklearn import preprocessing\n",
    "import seaborn as sns; sns.set()\n",
    "import matplotlib.pyplot as plt\n",
    "import pandas as pd\n",
    "import numpy as np\n",
    "from itertools import chain\n",
    "import glob2 as glob\n",
    "from bs4 import BeautifulSoup\n",
    "import pickle\n",
    "import re"
   ]
  },
  {
   "cell_type": "markdown",
   "metadata": {},
   "source": [
    "## Feature Engineering\n",
    "\n",
    "My data consisted of 1.5 GB of .txt files partitioned amongst 21 languages.  The key questions that came into mind were:\n",
    "\n",
    "### Question 1:  How should I deal with a heavy load of data?\n",
    "* Although this is not considered 'big data', I experienced a bottleneck in the first stage of this project during data pre-processing.  Namely, it took around four hours to extract and clean all of the .txt files.  Suspecting the problems that could unfold later during model training, I conducted some research on language detection. I learned that pre-processing just a subset of this data would suffice for my objective.  Therefore, I tweaked my ```extract_clean_text()```  by defining some threshold on how much data I will extract from the files.\n",
    "* Another problem I encountered with the data was that not all languages are treated equally.  In other words, extracting 100 txt files from the Bulgarian directory did not have the same amount of text as extracting 100 txt files from the Spanish directory. This realization of an imbalanced dataset was made when writing the code six cells down, where I used the np.unique function with return_counts setting to 'True'.  Therefore, I created a ```discrepancies``` list and added a nested threshold in my ```extract_clean_text()``` function to alleviate the discrepancy. \n",
    "\n",
    "\n",
    "### Question 2:  How should I tokenize the text?\n",
    "* Tokenization is a necessary step before feeding the data into a model.  Tokenizing means splitting your text into minimal meaningful units. These units are generally called n-grams.  An n-gram is simply a subset of the text. This subset can be determined by defining the 'range' and 'analyzer' of the n-gram.  The 'range' defines the smallest and biggest size of the sliding window.  This sliding window determines how many n-grams will be generated given a line of text.  For example, the word 'kitty' would result with the following n-grams with a (1,3) window range: 'k', 'i', 't', 't', 'y', 'ki', 'it', 'tt', 'ty', 'kit', 'itt', 'tty'. \n",
    "* When I observed the data, I noticed that there were HTML markups and new line ('\\n') annotations.  These are noise for the model, as they do not provide any meaningful information to detect language. Therefore, I used Beautiful Soup and Python's own split and join functions to clean up the text. \n",
    "* During my research on text tokenization, I realized that the tokenization method itself is a hyperparameter; namely, the type of tokenization can affect the performance of the model and therefore could be something to revise after analyzing the performance of the model.  Furthermore, the range and analyzer parameters within each tokenization method could also be hyperparameters to consider while tweaking the model.  \n",
    "* I decided to use the TFIDFVectorizer.  What TFIDF does is assign an importance metric (weight) on n-grams based on how often they appear in the text.  The higher the weight, the rarer the n-gram. I hypothesized that rare n-grams could allow the model to learn the unique distinctions amongst the languages.  I chose 'char' as the analyzer, because for language detection, it only suffices to extract text on the character level.  I chose (1, 3) as my n-gram range because I hypothesized that this range could sufficiently capture the particular instances of the spelling of words in each language.  It is important to keep in mind that the n-gram range determines the dimensionality of this model's feature space.  Having a large range will cause the feature space to be more complex (i.e. more dimensions) and more sparse, which can affect the time it takes to train and apply the model.\n",
    "    \n",
    "### 3. What should the data structure look like before feeding it to a model? \n",
    "* For any ML model, you need a data structure that contains features (x) and targets (y).  \n",
    "* Within the feature space, the values should be normalized.  In our case, TFIDF already takes normalization into account.  \n",
    "* Within the target space, it's important to quantify the labels.  I used scikit learn's ```LabelEncoder()``` function to convert each language label into a unique number.  \n",
    "* The data structure should also be shuffled, as this improves the quality of the ML model.  I used scikit learn's ```shuffle()``` function to do this.\n",
    "\n"
   ]
  },
  {
   "cell_type": "code",
   "execution_count": 116,
   "metadata": {},
   "outputs": [],
   "source": [
    "LABELS= [\n",
    "    'bg',\n",
    "    'cs',\n",
    "    'da',\n",
    "    'de',\n",
    "    'el',\n",
    "    'en',\n",
    "    'es',\n",
    "    'et',\n",
    "    'fi',\n",
    "    'fr',\n",
    "    'hu',\n",
    "    'it',\n",
    "    'lt',\n",
    "    'lv',\n",
    "    'nl',\n",
    "    'pl',\n",
    "    'pt',\n",
    "    'ro',\n",
    "    'sk',\n",
    "    'sl',\n",
    "    'sv'\n",
    "]\n",
    "\n",
    "# discrepancies: a list of countries in which the content in their text files is not as much as the other countries. \n",
    "# discprencies list will later be used to ensure that extracted text from coutnries are well balanced.\n",
    "discrepancies = ['bg',\n",
    " 'cs',\n",
    " 'et',\n",
    " 'hu',\n",
    " 'lv',\n",
    " 'lt',\n",
    " 'pl',\n",
    " 'ro',\n",
    " 'sl',\n",
    " 'sk'\n",
    "]\n",
    "\n",
    "#the value to each key is a path to a pickled file which contains clean text from the txt files.\n",
    "language_directory = {\n",
    "    'French': 'train_set/fr.p', \n",
    "    'Italian': 'train_set/it.p', \n",
    "    'Spanish': 'train_set/es.p', \n",
    "    'Portuguese': 'train_set/pt.p', \n",
    "    'Romanian': 'train_set/ro.p', \n",
    "    'English': 'train_set/en.p',\n",
    "    'Dutch': 'train_set/nl.p',\n",
    "    'German': 'train_set/de.p', \n",
    "    'Danish': 'train_set/da.p', \n",
    "    'Swedish': 'train_set/sv.p', \n",
    "    'Bulgarian': 'train_set/bg.p', \n",
    "    'Czech': 'train_set/cs.p', \n",
    "    'Polish': 'train_set/pl.p', \n",
    "    'Slovak': 'train_set/sk.p', \n",
    "    'Slovene': 'train_set/sl.p', \n",
    "    'Finnish': 'train_set/fi.p', \n",
    "    'Hungarian': 'train_set/hu.p', \n",
    "    'Estonian': 'train_set/et.p', \n",
    "    'Latvian': 'train_set/lv.p', \n",
    "    'Lithuanian': 'train_set/lt.p', \n",
    "    'Greek': 'train_set/el.p'\n",
    "    \n",
    "}\n",
    "\n",
    "#p is used to parse out sentences from a provided string.\n",
    "p = re.compile(r'[.?!]+')\n",
    "\n"
   ]
  },
  {
   "cell_type": "code",
   "execution_count": 16,
   "metadata": {},
   "outputs": [],
   "source": [
    "def get_txt_path(countries):\n",
    "    '''\n",
    "    Goal:  Extract the .txt file paths from each country folder in order to initialize the\n",
    "           data preprocessing.  \n",
    "    \n",
    "    @param countries: a list of the country abbreviations that are also the labels of the directories that contain\n",
    "                      txt files.\n",
    "    @return data_paths: a dictionary in which keys are country abbreviations and values are a list of \n",
    "                        strings that are txt file paths.\n",
    "    '''\n",
    "    data_paths = {}\n",
    "    for i in countries:\n",
    "        data_paths[i] = glob.glob(f'txt_raw_train/{i}/*.txt')\n",
    "    return data_paths\n",
    "\n",
    "\n",
    "def extract_clean_text(txt_files):\n",
    "    '''\n",
    "    Goal:  This is a crucial preprocessing step.  All raw text contain HTML markups which would be considered as noise to the model.\n",
    "           Here, I extract certain amount of text from the countries' files.  If a country is in the discrepancies list, then more text will \n",
    "           be added to ensure a well balanced dataset.  \n",
    "    \n",
    "    @param txt_files: a string which is a path to the txt files from each country's directory\n",
    "    @return cleantexts:  a list of strings from a certain amount of each country's txt files.\n",
    "    '''\n",
    "    \n",
    "    cleantexts = []\n",
    "\n",
    "    for file in txt_files:\n",
    "        with open(file, 'rb') as txt:\n",
    "            data = txt.read()\n",
    "        cleantext = BeautifulSoup(data, 'lxml').text\n",
    "        cleantext = ''.join(cleantext.split('\\n'))\n",
    "        cleantexts.append(cleantext)\n",
    "        if country not in discrepancies: \n",
    "            if len(cleantexts)%100 == 0:\n",
    "                break\n",
    "        else:\n",
    "            if len(cleantexts)%500 == 0:\n",
    "                break\n",
    "    return cleantexts\n",
    "\n",
    "\n",
    "def generate_df(language):\n",
    "    '''\n",
    "    Goal:  To generate a Panda's dataframe that parses out the sentences of a given string and provides a label that corresponds\n",
    "           to the language of that sentence.  \n",
    "           \n",
    "    @param language: a string that represents one of the 21 languages to classify.\n",
    "    @return df: the pandas dataframe that will have two columns: 'Sentence' and 'language'.\n",
    "    '''\n",
    "    list_of_strings = pickle.load(open(language_directory[language], 'rb'))\n",
    "    all_statements = []\n",
    "    for text in list_of_strings:\n",
    "        statements=  p.split(text)\n",
    "        all_statements.append(statements)\n",
    "\n",
    "    all_statements = list(chain.from_iterable(all_statements))\n",
    "    df = pd.DataFrame(all_statements)\n",
    "    df['language'] = language\n",
    "    df= df.rename(index=str, columns={0:'Sentence'})\n",
    "#     set_trace()\n",
    "    return df\n",
    "\n",
    "\n",
    "def generate_mega_df(dfs):\n",
    "    '''\n",
    "    Goal:  To concatenate each dataframe that is generated from the 'generate_df()' function to form one 'mega' dataframe.\n",
    "        This mega dataframe will also use a label encoder as a way of quantifying the categories, in which case are languages.\n",
    "    \n",
    "    @param dfs: a list of Pandas dataframes.  \n",
    "    @return df:  a Pandas dataframe which will contain three columns: 'Sentence','language', and 'label'.\n",
    "    '''\n",
    "\n",
    "    df = pd.concat(dfs)\n",
    "    le = preprocessing.LabelEncoder()\n",
    "    le.fit(df['language'])\n",
    "    df['label'] = le.transform(df['language'])\n",
    "    df['label'] = df['label'].apply(float)\n",
    "    return df\n",
    "    \n",
    "    \n",
    "def plot_confusion_matrix(y_test, predictions):\n",
    "    '''\n",
    "    Goal:  To visualize the performance of the model being used. \n",
    "    \n",
    "    @param y_test: all true labels from the test set\n",
    "    @param predictions: all predictions generated after predicting the model with the test input features\n",
    "    \n",
    "    '''\n",
    "    \n",
    "    plt.figure(figsize=(32, 32))\n",
    "    cm = confusion_matrix(y_test, predictions)\n",
    "\n",
    "    ax = sns.heatmap(cm, annot = True, fmt = \"d\")\n",
    "\n",
    "    ax.set_xlabel('Predicted Language')\n",
    "    ax.set_ylabel('Actual Language')\n",
    "    ax.set_title('Language Identification Confusion Matrix')\n",
    "    ax.set_xticklabels(dict_labels.values())\n",
    "    ax.set_yticklabels(dict_labels.values())\n",
    "    \n",
    "    "
   ]
  },
  {
   "cell_type": "code",
   "execution_count": 10,
   "metadata": {},
   "outputs": [
    {
     "name": "stdout",
     "output_type": "stream",
     "text": [
      "pickled file of clean text generated for bg\n",
      "pickled file of clean text generated for cs\n",
      "pickled file of clean text generated for da\n",
      "pickled file of clean text generated for de\n",
      "pickled file of clean text generated for el\n",
      "pickled file of clean text generated for en\n",
      "pickled file of clean text generated for es\n",
      "pickled file of clean text generated for et\n",
      "pickled file of clean text generated for fi\n",
      "pickled file of clean text generated for fr\n",
      "pickled file of clean text generated for hu\n",
      "pickled file of clean text generated for it\n",
      "pickled file of clean text generated for lt\n",
      "pickled file of clean text generated for lv\n",
      "pickled file of clean text generated for nl\n",
      "pickled file of clean text generated for pl\n",
      "pickled file of clean text generated for pt\n",
      "pickled file of clean text generated for ro\n",
      "pickled file of clean text generated for sk\n",
      "pickled file of clean text generated for sl\n",
      "pickled file of clean text generated for sv\n"
     ]
    }
   ],
   "source": [
    "data_paths = get_txt_path(labels)\n",
    "\n",
    "for country, txt_paths in data_paths.items():\n",
    "    cleantexts = extract_clean_text(txt_paths)\n",
    "    pickle.dump(cleantexts, open(f'train_set/{country}.p','wb'))\n",
    "    print(f'pickled file of clean text generated for {country}')\n"
   ]
  },
  {
   "cell_type": "code",
   "execution_count": 100,
   "metadata": {},
   "outputs": [],
   "source": [
    "dfs = []\n",
    "for i in language_directory:\n",
    "    dfs.append(generate_df(i))\n",
    "\n",
    "df = generate_mega_df(dfs)\n"
   ]
  },
  {
   "cell_type": "code",
   "execution_count": 193,
   "metadata": {},
   "outputs": [],
   "source": [
    "dict_labels = {}\n",
    "for i in range(20):\n",
    "    dict_labels[i]=df.loc[df['label'] == i]['language'][0]"
   ]
  },
  {
   "cell_type": "code",
   "execution_count": 101,
   "metadata": {},
   "outputs": [
    {
     "data": {
      "text/plain": [
       "{0.0: 32291,\n",
       " 1.0: 33183,\n",
       " 2.0: 38694,\n",
       " 3.0: 31205,\n",
       " 4.0: 29501,\n",
       " 5.0: 36826,\n",
       " 6.0: 29730,\n",
       " 7.0: 29718,\n",
       " 8.0: 34500,\n",
       " 9.0: 23290,\n",
       " 10.0: 33130,\n",
       " 11.0: 27233,\n",
       " 12.0: 35557,\n",
       " 13.0: 38458,\n",
       " 14.0: 34612,\n",
       " 15.0: 28525,\n",
       " 16.0: 29721,\n",
       " 17.0: 33048,\n",
       " 18.0: 31608,\n",
       " 19.0: 33366,\n",
       " 20.0: 32230}"
      ]
     },
     "execution_count": 101,
     "metadata": {},
     "output_type": "execute_result"
    }
   ],
   "source": [
    "labels = df['label']\n",
    "unique, counts = np.unique(labels, return_counts=True)\n",
    "dict(zip(unique, counts))"
   ]
  },
  {
   "cell_type": "code",
   "execution_count": 21,
   "metadata": {},
   "outputs": [],
   "source": [
    "# few_sentences = [0, 1, 5, 10, 12, 13, 14, 16, 17, 18]\n",
    "# imbalanced_set = [17, 20]\n",
    "\n",
    "# discrepancies = []\n",
    "# for i in few_sentences:\n",
    "#     discrepancies.append(df.loc[df['label'] == i]['language'][0])\n",
    "\n",
    "# discrepancies = []\n",
    "# for i in imbalanced_set:\n",
    "#     discrepancies.append(df.loc[df['label'] == i]['language'][0])"
   ]
  },
  {
   "cell_type": "code",
   "execution_count": 102,
   "metadata": {},
   "outputs": [
    {
     "data": {
      "text/plain": [
       "Sentence    False\n",
       "language    False\n",
       "label       False\n",
       "dtype: bool"
      ]
     },
     "execution_count": 102,
     "metadata": {},
     "output_type": "execute_result"
    }
   ],
   "source": [
    "df.isnull().any()"
   ]
  },
  {
   "cell_type": "code",
   "execution_count": 103,
   "metadata": {},
   "outputs": [],
   "source": [
    "df = shuffle(df)"
   ]
  },
  {
   "cell_type": "code",
   "execution_count": 171,
   "metadata": {},
   "outputs": [],
   "source": [
    "features = df['Sentence']\n",
    "targets = df['label']"
   ]
  },
  {
   "cell_type": "code",
   "execution_count": 172,
   "metadata": {},
   "outputs": [],
   "source": [
    "x_train, x_val, y_train, y_val = train_test_split(features, targets, test_size=0.3, random_state=0)"
   ]
  },
  {
   "cell_type": "markdown",
   "metadata": {},
   "source": [
    "## Model Selection\n",
    "\n",
    "I wanted to choose a model that would be friendly to sparse feature spaces. Thankfully, there are tons of ML models in sci-kit learn that accept sparse matrices.  I chose Multinomial Naive Bayes as my model, as it caters to sparse matrices and is a simple technique for constructing classifiers.  Naive Bayes (NB) is a probabilistic model, in the sense that it computes probabilities, and it assumes that the feature vectors in the feature space are linearly independent.  Linear independence means that there is no correlation between any of the columns in the feature space, i.e. there are no redundant vectors and each feature vector stands on its own.  To demonstrate this concept with a simple example, suppose you were given the task to classify vehicles of transportation, cars and bicycles, and you were given data on their attributes, weight and maximum speed.  If you ponder on how these two features are applied in the real world, you may think that the heavier the vehicle, the likelier it is that this vehicle has an engine, which is then most likely that the vehicle is a car.  In this instance, weight and speed are codependent and it would suffice to say that we can throw one of those features away.  In this case, weight and speed are not linearly independent.  However, this feature space could diminish its linear dependence quality if we were classifying cars and motorcycles.  In this case, weight and speed are not necessarily correlated with each other and we could say that these features are likely to be linearly independent.  With the case of language detection, I hypothesize that the features generated from TFIDF vectorization are indeed linearly independent. \n",
    "\n",
    "As mentioned earlier, NB computes probabilities.  Namely, it computes the following: what is the probability that this language is y given that it has features x?  In our instance, the model works by computing a large table of probabilities by using Baye's theorem to compute the conditional probability stated above.  Then, the highest probability gets predicted as the correct language.  \n",
    "\n",
    "\n",
    "\n"
   ]
  },
  {
   "cell_type": "code",
   "execution_count": 173,
   "metadata": {},
   "outputs": [],
   "source": [
    "tfidf_vect = TfidfVectorizer(analyzer='char', ngram_range=(1,3))\n",
    "model = MultinomialNB()\n",
    "text_clf = Pipeline([('tfidf', tfidf_vect),\n",
    "                    ('clf', model),])"
   ]
  },
  {
   "cell_type": "code",
   "execution_count": 174,
   "metadata": {},
   "outputs": [
    {
     "data": {
      "text/plain": [
       "Pipeline(memory=None,\n",
       "     steps=[('tfidf', TfidfVectorizer(analyzer='char', binary=False, decode_error='strict',\n",
       "        dtype=<class 'numpy.int64'>, encoding='utf-8', input='content',\n",
       "        lowercase=True, max_df=1.0, max_features=None, min_df=1,\n",
       "        ngram_range=(1, 3), norm='l2', preprocessor=None, smooth_idf=True,\n",
       " ...rue,\n",
       "        vocabulary=None)), ('clf', MultinomialNB(alpha=1.0, class_prior=None, fit_prior=True))])"
      ]
     },
     "execution_count": 174,
     "metadata": {},
     "output_type": "execute_result"
    }
   ],
   "source": [
    "text_clf.fit(x_train, y_train)"
   ]
  },
  {
   "cell_type": "code",
   "execution_count": 175,
   "metadata": {},
   "outputs": [],
   "source": [
    "predictions = text_clf.predict(x_val)"
   ]
  },
  {
   "cell_type": "code",
   "execution_count": 176,
   "metadata": {},
   "outputs": [
    {
     "data": {
      "text/plain": [
       "0.9772480879918001"
      ]
     },
     "execution_count": 176,
     "metadata": {},
     "output_type": "execute_result"
    }
   ],
   "source": [
    "accuracy_score(y_val,predictions)"
   ]
  },
  {
   "cell_type": "code",
   "execution_count": 36,
   "metadata": {},
   "outputs": [
    {
     "name": "stderr",
     "output_type": "stream",
     "text": [
      "IOPub data rate exceeded.\n",
      "The notebook server will temporarily stop sending output\n",
      "to the client in order to avoid crashing it.\n",
      "To change this limit, set the config variable\n",
      "`--NotebookApp.iopub_data_rate_limit`.\n",
      "\n",
      "Current values:\n",
      "NotebookApp.iopub_data_rate_limit=1000000.0 (bytes/sec)\n",
      "NotebookApp.rate_limit_window=3.0 (secs)\n",
      "\n"
     ]
    }
   ],
   "source": [
    "import codecs\n",
    "#open it with utf-8 encoding \n",
    "file =codecs.open(\"europarl.test\",\"r\",encoding='utf-8')\n",
    "#read the file to unicode string\n",
    "sfile=file.read()\n",
    "\n",
    "#check the encoding type\n",
    "print(type(file)) #it's unicode\n",
    "\n",
    "#unicode should be encoded to standard string to display it properly\n",
    "print(sfile.encode('utf-8'))\n",
    "#check the type of encoded string\n",
    "\n",
    "print(type(sfile.encode('utf-8')))"
   ]
  },
  {
   "cell_type": "code",
   "execution_count": 44,
   "metadata": {},
   "outputs": [],
   "source": [
    "test_one = sfile.split('\\n')[:100]\n",
    "test_two = sfile.split('\\n')[100:200]\n",
    "test_three= sfile.split('\\n')[200:300]"
   ]
  },
  {
   "cell_type": "code",
   "execution_count": 53,
   "metadata": {},
   "outputs": [],
   "source": [
    "unclean_sentences = ''.join(sfile.split('\\n')).split('\\t')"
   ]
  },
  {
   "cell_type": "code",
   "execution_count": 131,
   "metadata": {},
   "outputs": [],
   "source": [
    "clean_sentences = []\n",
    "for i in unclean_sentences:\n",
    "    clean = re.sub('\\(..\\)', '', i)\n",
    "    cleaner = re.sub('\\...$', '', clean)\n",
    "    clean_sentences.append(cleaner)"
   ]
  },
  {
   "cell_type": "code",
   "execution_count": 132,
   "metadata": {},
   "outputs": [],
   "source": [
    "labels = []\n",
    "for i in sfile.split('\\n'):\n",
    "    label = i[:2]\n",
    "    labels.append(label)"
   ]
  },
  {
   "cell_type": "code",
   "execution_count": 133,
   "metadata": {},
   "outputs": [
    {
     "name": "stdout",
     "output_type": "stream",
     "text": [
      "21001\n"
     ]
    }
   ],
   "source": [
    "print(len(clean_sentences))"
   ]
  },
  {
   "cell_type": "code",
   "execution_count": 134,
   "metadata": {},
   "outputs": [
    {
     "name": "stdout",
     "output_type": "stream",
     "text": [
      "21001\n"
     ]
    }
   ],
   "source": [
    "print(len(labels))"
   ]
  },
  {
   "cell_type": "code",
   "execution_count": 135,
   "metadata": {},
   "outputs": [],
   "source": [
    "df_test = pd.DataFrame(labels, clean_sentences)"
   ]
  },
  {
   "cell_type": "code",
   "execution_count": 136,
   "metadata": {},
   "outputs": [],
   "source": [
    "df_test=df_test.drop(df_test.index[0]).reset_index()"
   ]
  },
  {
   "cell_type": "code",
   "execution_count": 149,
   "metadata": {},
   "outputs": [],
   "source": [
    "df_test = df_test.rename(index=str, columns={'langauge':'language', 'index':'Sentence'})"
   ]
  },
  {
   "cell_type": "code",
   "execution_count": 150,
   "metadata": {},
   "outputs": [],
   "source": [
    "df_test = shuffle(df_test)"
   ]
  },
  {
   "cell_type": "code",
   "execution_count": 151,
   "metadata": {},
   "outputs": [
    {
     "data": {
      "text/html": [
       "<div>\n",
       "<style scoped>\n",
       "    .dataframe tbody tr th:only-of-type {\n",
       "        vertical-align: middle;\n",
       "    }\n",
       "\n",
       "    .dataframe tbody tr th {\n",
       "        vertical-align: top;\n",
       "    }\n",
       "\n",
       "    .dataframe thead th {\n",
       "        text-align: right;\n",
       "    }\n",
       "</style>\n",
       "<table border=\"1\" class=\"dataframe\">\n",
       "  <thead>\n",
       "    <tr style=\"text-align: right;\">\n",
       "      <th></th>\n",
       "      <th>Sentence</th>\n",
       "      <th>language</th>\n",
       "    </tr>\n",
       "  </thead>\n",
       "  <tbody>\n",
       "    <tr>\n",
       "      <th>8707</th>\n",
       "      <td>Siirrymme äänestykseen</td>\n",
       "      <td>fi</td>\n",
       "    </tr>\n",
       "    <tr>\n",
       "      <th>9615</th>\n",
       "      <td>Les difficultés du pouvoir d'achat ont contrib...</td>\n",
       "      <td>fr</td>\n",
       "    </tr>\n",
       "    <tr>\n",
       "      <th>2215</th>\n",
       "      <td>Det er dog også værd at fremhæve de henvisning...</td>\n",
       "      <td>da</td>\n",
       "    </tr>\n",
       "    <tr>\n",
       "      <th>9671</th>\n",
       "      <td>Mais les Cambodgiens renvoient ensuite naturel...</td>\n",
       "      <td>fr</td>\n",
       "    </tr>\n",
       "    <tr>\n",
       "      <th>13300</th>\n",
       "      <td>Kad Eiropas karaspēks vai kāda cita palīdzība ...</td>\n",
       "      <td>lv</td>\n",
       "    </tr>\n",
       "  </tbody>\n",
       "</table>\n",
       "</div>"
      ],
      "text/plain": [
       "                                                Sentence language\n",
       "8707                              Siirrymme äänestykseen       fi\n",
       "9615   Les difficultés du pouvoir d'achat ont contrib...       fr\n",
       "2215   Det er dog også værd at fremhæve de henvisning...       da\n",
       "9671   Mais les Cambodgiens renvoient ensuite naturel...       fr\n",
       "13300  Kad Eiropas karaspēks vai kāda cita palīdzība ...       lv"
      ]
     },
     "execution_count": 151,
     "metadata": {},
     "output_type": "execute_result"
    }
   ],
   "source": [
    "df_test.head()"
   ]
  },
  {
   "cell_type": "code",
   "execution_count": 185,
   "metadata": {},
   "outputs": [],
   "source": [
    "df_test = df_test.dropna()"
   ]
  },
  {
   "cell_type": "code",
   "execution_count": 195,
   "metadata": {},
   "outputs": [
    {
     "data": {
      "text/plain": [
       "{0: 'Bulgarian',\n",
       " 1: 'Czech',\n",
       " 2: 'Danish',\n",
       " 3: 'Dutch',\n",
       " 4: 'English',\n",
       " 5: 'Estonian',\n",
       " 6: 'Finnish',\n",
       " 7: 'French',\n",
       " 8: 'German',\n",
       " 9: 'Greek',\n",
       " 10: 'Hungarian',\n",
       " 11: 'Italian',\n",
       " 12: 'Latvian',\n",
       " 13: 'Lithuanian',\n",
       " 14: 'Polish',\n",
       " 15: 'Portuguese',\n",
       " 16: 'Romanian',\n",
       " 17: 'Slovak',\n",
       " 18: 'Slovene',\n",
       " 19: 'Spanish'}"
      ]
     },
     "execution_count": 195,
     "metadata": {},
     "output_type": "execute_result"
    }
   ],
   "source": [
    "dict_labels"
   ]
  },
  {
   "cell_type": "code",
   "execution_count": 153,
   "metadata": {},
   "outputs": [],
   "source": [
    "# ensuring that test data is label encoded teh same way as the training data\n",
    "df_test.loc[df_test.language == 'fr', 'label'] = 7.0\n",
    "df_test.loc[df_test.language == 'it', 'label'] = 11.0\n",
    "df_test.loc[df_test.language == 'es', 'label'] = 19.0\n",
    "df_test.loc[df_test.language == 'pt', 'label'] = 15.0\n",
    "df_test.loc[df_test.language == 'ro', 'label'] = 16.0\n",
    "df_test.loc[df_test.language == 'en', 'label'] = 4.0\n",
    "df_test.loc[df_test.language == 'nl', 'label'] = 3.0\n",
    "df_test.loc[df_test.language == 'de', 'label'] = 8.0\n",
    "df_test.loc[df_test.language == 'da', 'label'] = 2.0\n",
    "df_test.loc[df_test.language == 'sv', 'label'] = 20.0\n",
    "df_test.loc[df_test.language == 'bg', 'label'] = 0.0\n",
    "df_test.loc[df_test.language == 'cs', 'label'] = 1.0\n",
    "df_test.loc[df_test.language == 'pl', 'label'] = 14.0\n",
    "df_test.loc[df_test.language == 'sk', 'label'] = 17.0\n",
    "df_test.loc[df_test.language == 'sl', 'label'] = 18.0\n",
    "df_test.loc[df_test.language == 'fi', 'label'] = 6.0\n",
    "df_test.loc[df_test.language == 'hu', 'label'] = 10.0\n",
    "df_test.loc[df_test.language == 'et', 'label'] = 5.0\n",
    "df_test.loc[df_test.language == 'lv', 'label'] = 12.0\n",
    "df_test.loc[df_test.language == 'lt', 'label'] = 13.0\n",
    "df_test.loc[df_test.language == 'el', 'label'] = 9.0\n"
   ]
  },
  {
   "cell_type": "code",
   "execution_count": 188,
   "metadata": {},
   "outputs": [],
   "source": [
    "test_features = df_test['Sentence']\n",
    "test_targets = df_test['label']"
   ]
  },
  {
   "cell_type": "code",
   "execution_count": 190,
   "metadata": {},
   "outputs": [],
   "source": [
    "predictions = text_clf.predict(test_features)"
   ]
  },
  {
   "cell_type": "markdown",
   "metadata": {},
   "source": [
    "## Model Performance\n",
    "\n",
    "As seen below, the test data generates an accuracy score of 99.8%! The well defined diagonal is a visual representation of the good performance of this language classifier. Although this model performs quite well, there are a few misclassifications. The confusion matrix gives insight into where the model makes errors."
   ]
  },
  {
   "cell_type": "code",
   "execution_count": 191,
   "metadata": {},
   "outputs": [
    {
     "data": {
      "text/plain": [
       "0.997904662126768"
      ]
     },
     "execution_count": 191,
     "metadata": {},
     "output_type": "execute_result"
    }
   ],
   "source": [
    "accuracy_score(test_targets, predictions)"
   ]
  },
  {
   "cell_type": "code",
   "execution_count": 194,
   "metadata": {},
   "outputs": [
    {
     "data": {
      "image/png": "[encoded data removed]",
      "text/plain": [
       "<Figure size 2304x2304 with 2 Axes>"
      ]
     },
     "metadata": {},
     "output_type": "display_data"
    }
   ],
   "source": [
    "plot_confusion_matrix(test_targets, predictions)"
   ]
  },
  {
   "cell_type": "code",
   "execution_count": null,
   "metadata": {},
   "outputs": [],
   "source": []
  }
 ],
 "metadata": {
  "kernelspec": {
   "display_name": "Python 3",
   "language": "python",
   "name": "python3"
  },
  "language_info": {
   "codemirror_mode": {
    "name": "ipython",
    "version": 3
   },
   "file_extension": ".py",
   "mimetype": "text/x-python",
   "name": "python",
   "nbconvert_exporter": "python",
   "pygments_lexer": "ipython3",
   "version": "3.6.5"
  }
 },
 "nbformat": 4,
 "nbformat_minor": 2
}
